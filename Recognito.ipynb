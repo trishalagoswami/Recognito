{
  "nbformat": 4,
  "nbformat_minor": 0,
  "metadata": {
    "colab": {
      "name": "DigitRecognito.ipynb",
      "provenance": []
    },
    "kernelspec": {
      "name": "python3",
      "display_name": "Python 3"
    }
  },
  "cells": [
    {
      "cell_type": "code",
      "metadata": {
        "id": "QRu_yPZGYk-Y"
      },
      "source": [
        "import tensorflow as tf\r\n",
        "from tensorflow import keras"
      ],
      "execution_count": null,
      "outputs": []
    },
    {
      "cell_type": "code",
      "metadata": {
        "colab": {
          "base_uri": "https://localhost:8080/"
        },
        "id": "eidFccNhYyeh",
        "outputId": "af63b74a-387f-438b-88ac-f041e6f66d5b"
      },
      "source": [
        "(x_train,y_train),(x_test,y_test)=tf.keras.datasets.mnist.load_data()"
      ],
      "execution_count": null,
      "outputs": [
        {
          "output_type": "stream",
          "text": [
            "Downloading data from https://storage.googleapis.com/tensorflow/tf-keras-datasets/mnist.npz\n",
            "11493376/11490434 [==============================] - 0s 0us/step\n"
          ],
          "name": "stdout"
        }
      ]
    },
    {
      "cell_type": "code",
      "metadata": {
        "id": "zyjVuupHZCmR"
      },
      "source": [
        "x_train=x_train.reshape(60000,28,28,1)"
      ],
      "execution_count": null,
      "outputs": []
    },
    {
      "cell_type": "code",
      "metadata": {
        "id": "6whTTUPkZOZJ"
      },
      "source": [
        "x_test=x_test.reshape(10000,28,28,1)"
      ],
      "execution_count": null,
      "outputs": []
    },
    {
      "cell_type": "code",
      "metadata": {
        "id": "dYUHUUybZYsB"
      },
      "source": [
        "input_shape=(28,28,1)\r\n",
        "x_train=x_train.astype('float32')\r\n",
        "x_test=x_test.astype('float32')\r\n",
        "x_train/=255\r\n",
        "x_test/=255"
      ],
      "execution_count": null,
      "outputs": []
    },
    {
      "cell_type": "code",
      "metadata": {
        "id": "faLNTYKzbETk"
      },
      "source": [
        "from tf.keras.models import Sequential\r\n",
        "from tf.keras.layers import Dense,Conv2D,Dropout,Flatten,MaxPooling2D\r\n",
        "model=Sequential()\r\n",
        "model.add(Conv2D(28,kernel_size=(3,3),input_shape=input_shape))\r\n",
        "model.add(MaxPooling2D(pool_size=(2,2)))\r\n",
        "model.add(Dense(128,activation=tf.nn.relu))\r\n",
        "model.add(Dropout(0.2))\r\n",
        "model.add(Flatten())\r\n",
        "model.add(Dense(10,activation=tf.nn.softmax)) "
      ],
      "execution_count": null,
      "outputs": []
    },
    {
      "cell_type": "code",
      "metadata": {
        "colab": {
          "base_uri": "https://localhost:8080/"
        },
        "id": "0qGWsiLQbQoc",
        "outputId": "29565ff6-e150-4e8d-a838-f7da3ab7964a"
      },
      "source": [
        "model.compile(optimizer='adam', loss='sparse_categorical_crossentropy', metrics=['accuracy'])\r\n",
        "model.fit(x=x_train,y=y_train, epochs=10)"
      ],
      "execution_count": null,
      "outputs": [
        {
          "output_type": "stream",
          "text": [
            "Epoch 1/10\n",
            "1875/1875 [==============================] - 28s 14ms/step - loss: 0.3479 - accuracy: 0.8956\n",
            "Epoch 2/10\n",
            "1875/1875 [==============================] - 27s 14ms/step - loss: 0.0881 - accuracy: 0.9746\n",
            "Epoch 3/10\n",
            "1875/1875 [==============================] - 27s 15ms/step - loss: 0.0543 - accuracy: 0.9831\n",
            "Epoch 4/10\n",
            "1875/1875 [==============================] - 27s 14ms/step - loss: 0.0408 - accuracy: 0.9868\n",
            "Epoch 5/10\n",
            "1875/1875 [==============================] - 27s 14ms/step - loss: 0.0305 - accuracy: 0.9900\n",
            "Epoch 6/10\n",
            "1875/1875 [==============================] - 27s 15ms/step - loss: 0.0273 - accuracy: 0.9908\n",
            "Epoch 7/10\n",
            "1875/1875 [==============================] - 27s 14ms/step - loss: 0.0220 - accuracy: 0.9927\n",
            "Epoch 8/10\n",
            "1875/1875 [==============================] - 27s 15ms/step - loss: 0.0196 - accuracy: 0.9935\n",
            "Epoch 9/10\n",
            "1875/1875 [==============================] - 27s 15ms/step - loss: 0.0172 - accuracy: 0.9946\n",
            "Epoch 10/10\n",
            "1875/1875 [==============================] - 28s 15ms/step - loss: 0.0158 - accuracy: 0.9945\n"
          ],
          "name": "stdout"
        },
        {
          "output_type": "execute_result",
          "data": {
            "text/plain": [
              "<tensorflow.python.keras.callbacks.History at 0x7f646694b6a0>"
            ]
          },
          "metadata": {
            "tags": []
          },
          "execution_count": 8
        }
      ]
    },
    {
      "cell_type": "code",
      "metadata": {
        "colab": {
          "base_uri": "https://localhost:8080/"
        },
        "id": "z1Li-Is8bYUp",
        "outputId": "ddd97512-6467-4a6a-c8c2-6be4d92665c6"
      },
      "source": [
        "model.evaluate(x_test,y_test)"
      ],
      "execution_count": null,
      "outputs": [
        {
          "output_type": "stream",
          "text": [
            "313/313 [==============================] - 2s 5ms/step - loss: 0.0627 - accuracy: 0.9841\n"
          ],
          "name": "stdout"
        },
        {
          "output_type": "execute_result",
          "data": {
            "text/plain": [
              "[0.06265945732593536, 0.9840999841690063]"
            ]
          },
          "metadata": {
            "tags": []
          },
          "execution_count": 9
        }
      ]
    },
    {
      "cell_type": "code",
      "metadata": {
        "colab": {
          "base_uri": "https://localhost:8080/",
          "height": 283
        },
        "id": "LAF9C9XScnPd",
        "outputId": "0cd2945d-621d-4b7d-e334-037eec2dd1ff"
      },
      "source": [
        "import matplotlib.pyplot as plt\r\n",
        "image_index = 4000\r\n",
        "plt.imshow(x_test[image_index].reshape(28, 28),cmap='Greys')"
      ],
      "execution_count": null,
      "outputs": [
        {
          "output_type": "execute_result",
          "data": {
            "text/plain": [
              "<matplotlib.image.AxesImage at 0x7f64634fd278>"
            ]
          },
          "metadata": {
            "tags": []
          },
          "execution_count": 15
        },
        {
          "output_type": "display_data",
          "data": {
            "image/png": "[encoded data removed]",
            "text/plain": [
              "<Figure size 432x288 with 1 Axes>"
            ]
          },
          "metadata": {
            "tags": [],
            "needs_background": "light"
          }
        }
      ]
    },
    {
      "cell_type": "code",
      "metadata": {
        "colab": {
          "base_uri": "https://localhost:8080/"
        },
        "id": "MUTdHt6zc5w6",
        "outputId": "3ec1803d-2206-4182-b895-8d0dfd5c7693"
      },
      "source": [
        "predict = x_test[image_index].reshape(28,28)\r\n",
        "pred = model.predict(x_test[image_index].reshape(1, 28, 28, 1))\r\n",
        "print(pred.argmax())"
      ],
      "execution_count": null,
      "outputs": [
        {
          "output_type": "stream",
          "text": [
            "9\n"
          ],
          "name": "stdout"
        }
      ]
    },
    {
      "cell_type": "code",
      "metadata": {
        "id": "ZfoX_mTPdVoE"
      },
      "source": [
        "import imageio"
      ],
      "execution_count": null,
      "outputs": []
    },
    {
      "cell_type": "code",
      "metadata": {
        "id": "vWzFnsdrgvZM"
      },
      "source": [
        "import numpy as np"
      ],
      "execution_count": null,
      "outputs": []
    },
    {
      "cell_type": "code",
      "metadata": {
        "id": "HCvc3bx8g0uQ"
      },
      "source": [
        "im = imageio.imread(\"https://i.imgur.com/a3Rql9C.png\")"
      ],
      "execution_count": null,
      "outputs": []
    },
    {
      "cell_type": "code",
      "metadata": {
        "colab": {
          "base_uri": "https://localhost:8080/",
          "height": 265
        },
        "id": "Z4zSvOpOg36b",
        "outputId": "79aadd32-b81a-47f9-f5f6-4a7894fc94a3"
      },
      "source": [
        "gray = np.dot(im[...,:3], [0.299, 0.587, 0.114])\r\n",
        "plt.imshow(gray, cmap = plt.get_cmap('gray'))\r\n",
        "plt.show()"
      ],
      "execution_count": null,
      "outputs": [
        {
          "output_type": "display_data",
          "data": {
            "image/png": "[encoded data removed]",
            "text/plain": [
              "<Figure size 432x288 with 1 Axes>"
            ]
          },
          "metadata": {
            "tags": [],
            "needs_background": "light"
          }
        }
      ]
    },
    {
      "cell_type": "code",
      "metadata": {
        "id": "4AmE0SYJhCvF"
      },
      "source": [
        "gray = gray.reshape(1,28,28, 1)\r\n",
        "gray /= 255"
      ],
      "execution_count": null,
      "outputs": []
    },
    {
      "cell_type": "code",
      "metadata": {
        "colab": {
          "base_uri": "https://localhost:8080/"
        },
        "id": "JoEAqcZahTyr",
        "outputId": "08562bf0-162e-4b2c-b2fc-cd64ec4cf901"
      },
      "source": [
        "prediction = model.predict(gray)\r\n",
        "print(prediction.argmax())"
      ],
      "execution_count": null,
      "outputs": [
        {
          "output_type": "stream",
          "text": [
            "3\n"
          ],
          "name": "stdout"
        }
      ]
    },
    {
      "cell_type": "code",
      "metadata": {
        "colab": {
          "base_uri": "https://localhost:8080/",
          "height": 265
        },
        "id": "2Qs4EIb6ivz0",
        "outputId": "822a32b9-7fe6-43c6-9ba7-c7c67ac007fe"
      },
      "source": [
        "gray2 = np.dot(im[...,:3], [0.299, 0.587, 0.114])\r\n",
        "plt.imshow(gray2, cmap = plt.get_cmap('gray'))\r\n",
        "plt.show()"
      ],
      "execution_count": null,
      "outputs": [
        {
          "output_type": "display_data",
          "data": {
            "image/png": "[encoded data removed]",
            "text/plain": [
              "<Figure size 432x288 with 1 Axes>"
            ]
          },
          "metadata": {
            "tags": [],
            "needs_background": "light"
          }
        }
      ]
    },
    {
      "cell_type": "code",
      "metadata": {
        "colab": {
          "base_uri": "https://localhost:8080/"
        },
        "id": "aMwm7qwYl4w6",
        "outputId": "506304b0-7ee1-4800-a262-9fbba65246d4"
      },
      "source": [
        "model.compile(optimizer='adam', loss='sparse_categorical_crossentropy', metrics=['accuracy'])\r\n",
        "model.fit(x=x_train,y=y_train, epochs=20)"
      ],
      "execution_count": null,
      "outputs": [
        {
          "output_type": "stream",
          "text": [
            "Epoch 1/20\n",
            "1875/1875 [==============================] - 28s 15ms/step - loss: 0.0137 - accuracy: 0.9957\n",
            "Epoch 2/20\n",
            "1875/1875 [==============================] - 28s 15ms/step - loss: 0.0127 - accuracy: 0.9961\n",
            "Epoch 3/20\n",
            "1875/1875 [==============================] - 28s 15ms/step - loss: 0.0137 - accuracy: 0.9951\n",
            "Epoch 4/20\n",
            "1875/1875 [==============================] - 29s 15ms/step - loss: 0.0130 - accuracy: 0.9960\n",
            "Epoch 5/20\n",
            "1875/1875 [==============================] - 28s 15ms/step - loss: 0.0108 - accuracy: 0.9963\n",
            "Epoch 6/20\n",
            "1875/1875 [==============================] - 28s 15ms/step - loss: 0.0124 - accuracy: 0.9960\n",
            "Epoch 7/20\n",
            "1875/1875 [==============================] - 28s 15ms/step - loss: 0.0101 - accuracy: 0.9967\n",
            "Epoch 8/20\n",
            "1875/1875 [==============================] - 28s 15ms/step - loss: 0.0129 - accuracy: 0.9960\n",
            "Epoch 9/20\n",
            "1875/1875 [==============================] - 28s 15ms/step - loss: 0.0101 - accuracy: 0.9966\n",
            "Epoch 10/20\n",
            "1875/1875 [==============================] - 28s 15ms/step - loss: 0.0091 - accuracy: 0.9967\n",
            "Epoch 11/20\n",
            "1875/1875 [==============================] - 28s 15ms/step - loss: 0.0090 - accuracy: 0.9971\n",
            "Epoch 12/20\n",
            "1875/1875 [==============================] - 28s 15ms/step - loss: 0.0101 - accuracy: 0.9969\n",
            "Epoch 13/20\n",
            "1875/1875 [==============================] - 27s 15ms/step - loss: 0.0115 - accuracy: 0.9964\n",
            "Epoch 14/20\n",
            "1875/1875 [==============================] - 27s 15ms/step - loss: 0.0093 - accuracy: 0.9972\n",
            "Epoch 15/20\n",
            "1875/1875 [==============================] - 28s 15ms/step - loss: 0.0099 - accuracy: 0.9968\n",
            "Epoch 16/20\n",
            "1875/1875 [==============================] - 28s 15ms/step - loss: 0.0100 - accuracy: 0.9970\n",
            "Epoch 17/20\n",
            "1875/1875 [==============================] - 28s 15ms/step - loss: 0.0087 - accuracy: 0.9974\n",
            "Epoch 18/20\n",
            "1875/1875 [==============================] - 28s 15ms/step - loss: 0.0078 - accuracy: 0.9975\n",
            "Epoch 19/20\n",
            "1875/1875 [==============================] - 27s 15ms/step - loss: 0.0102 - accuracy: 0.9968\n",
            "Epoch 20/20\n",
            "1875/1875 [==============================] - 28s 15ms/step - loss: 0.0084 - accuracy: 0.9970\n"
          ],
          "name": "stdout"
        },
        {
          "output_type": "execute_result",
          "data": {
            "text/plain": [
              "<tensorflow.python.keras.callbacks.History at 0x7f645910dfd0>"
            ]
          },
          "metadata": {
            "tags": []
          },
          "execution_count": 35
        }
      ]
    },
    {
      "cell_type": "code",
      "metadata": {
        "colab": {
          "base_uri": "https://localhost:8080/"
        },
        "id": "xoApwvQZmM4u",
        "outputId": "d0276393-d85c-4de3-b27e-6351d44653e1"
      },
      "source": [
        "prediction3 = model.predict(gray2)\r\n",
        "print(prediction3.argmax())"
      ],
      "execution_count": null,
      "outputs": [
        {
          "output_type": "stream",
          "text": [
            "5\n"
          ],
          "name": "stdout"
        }
      ]
    },
    {
      "cell_type": "code",
      "metadata": {
        "id": "VgoP8Ha9qZ-5"
      },
      "source": [
        ""
      ],
      "execution_count": null,
      "outputs": []
    }
  ]
}